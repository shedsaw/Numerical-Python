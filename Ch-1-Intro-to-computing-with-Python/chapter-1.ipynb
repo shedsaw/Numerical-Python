{
 "cells": [
  {
   "cell_type": "code",
   "execution_count": 10,
   "id": "1ebc0337",
   "metadata": {},
   "outputs": [
    {
     "data": {
      "text/plain": [
       "9"
      ]
     },
     "execution_count": 10,
     "metadata": {},
     "output_type": "execute_result"
    }
   ],
   "source": [
    "3*3"
   ]
  },
  {
   "cell_type": "code",
   "execution_count": 11,
   "id": "4b0e5cda",
   "metadata": {},
   "outputs": [
    {
     "data": {
      "text/plain": [
       "'3*3'"
      ]
     },
     "execution_count": 11,
     "metadata": {},
     "output_type": "execute_result"
    }
   ],
   "source": [
    "In[6]"
   ]
  },
  {
   "cell_type": "code",
   "execution_count": 12,
   "id": "491ef958",
   "metadata": {},
   "outputs": [
    {
     "data": {
      "text/plain": [
       "'3*3'"
      ]
     },
     "execution_count": 12,
     "metadata": {},
     "output_type": "execute_result"
    }
   ],
   "source": [
    "Out[7]"
   ]
  },
  {
   "cell_type": "code",
   "execution_count": 13,
   "id": "26908af9",
   "metadata": {},
   "outputs": [
    {
     "data": {
      "text/plain": [
       "['',\n",
       " '3*3\\nIn[1]',\n",
       " '3*3;\\nIn[1]',\n",
       " '3*3;',\n",
       " 'In[3]',\n",
       " 'Out[4]',\n",
       " '3*3',\n",
       " 'In[6]',\n",
       " 'Out[7]',\n",
       " 'In',\n",
       " '3*3',\n",
       " 'In[6]',\n",
       " 'Out[7]',\n",
       " 'In']"
      ]
     },
     "execution_count": 13,
     "metadata": {},
     "output_type": "execute_result"
    }
   ],
   "source": [
    "In"
   ]
  },
  {
   "cell_type": "code",
   "execution_count": 14,
   "id": "09a7c4d5",
   "metadata": {},
   "outputs": [],
   "source": [
    "import os"
   ]
  },
  {
   "cell_type": "markdown",
   "id": "a4422856",
   "metadata": {},
   "source": [
    "After importing the 'os' library, we can introspect on the included functions. For instance, if we typed\n",
    "'os.w'\n",
    "We could then hit TAB to see what functions in the 'os' library start with a 'w.'"
   ]
  },
  {
   "cell_type": "code",
   "execution_count": 15,
   "id": "d45dab4f",
   "metadata": {},
   "outputs": [],
   "source": [
    "import math\n",
    "math.cos?"
   ]
  },
  {
   "cell_type": "markdown",
   "id": "42cb3a0c",
   "metadata": {},
   "source": [
    "The above will cause the documentation of the cosine function to be printed."
   ]
  },
  {
   "cell_type": "code",
   "execution_count": 17,
   "id": "da6ea65c",
   "metadata": {},
   "outputs": [
    {
     "name": "stdout",
     "output_type": "stream",
     "text": [
      "Untitled.ipynb  chapter-1.ipynb\r\n"
     ]
    }
   ],
   "source": [
    "!ls"
   ]
  },
  {
   "cell_type": "markdown",
   "id": "573b6076",
   "metadata": {},
   "source": [
    "We can use the '!' character to interact with the shell."
   ]
  },
  {
   "cell_type": "code",
   "execution_count": 19,
   "id": "4f0065ae",
   "metadata": {},
   "outputs": [
    {
     "data": {
      "text/plain": [
       "2"
      ]
     },
     "execution_count": 19,
     "metadata": {},
     "output_type": "execute_result"
    }
   ],
   "source": [
    "files=!ls\n",
    "len(files)"
   ]
  },
  {
   "cell_type": "code",
   "execution_count": 20,
   "id": "f66d231e",
   "metadata": {},
   "outputs": [
    {
     "data": {
      "text/plain": [
       "['Untitled.ipynb', 'chapter-1.ipynb']"
      ]
     },
     "execution_count": 20,
     "metadata": {},
     "output_type": "execute_result"
    }
   ],
   "source": [
    "files"
   ]
  },
  {
   "cell_type": "code",
   "execution_count": 21,
   "id": "eb95f151",
   "metadata": {},
   "outputs": [
    {
     "name": "stdout",
     "output_type": "stream",
     "text": [
      "-rw-r--r--  1 sawyer  staff  4152 May 11 10:45 chapter-1.ipynb\r\n"
     ]
    }
   ],
   "source": [
    "file=\"chapter-1.ipynb\"\n",
    "!ls -l $file"
   ]
  },
  {
   "cell_type": "code",
   "execution_count": null,
   "id": "8d4b657d",
   "metadata": {},
   "outputs": [],
   "source": []
  }
 ],
 "metadata": {
  "kernelspec": {
   "display_name": "Python 3 (ipykernel)",
   "language": "python",
   "name": "python3"
  },
  "language_info": {
   "codemirror_mode": {
    "name": "ipython",
    "version": 3
   },
   "file_extension": ".py",
   "mimetype": "text/x-python",
   "name": "python",
   "nbconvert_exporter": "python",
   "pygments_lexer": "ipython3",
   "version": "3.8.11"
  }
 },
 "nbformat": 4,
 "nbformat_minor": 5
}
